{
 "cells": [
  {
   "cell_type": "code",
   "execution_count": 2,
   "metadata": {},
   "outputs": [],
   "source": [
    "import os\n",
    "from datetime import date, datetime, timedelta\n",
    "\n",
    "import numpy as np\n",
    "import pandas as pd\n",
    "import matplotlib.pyplot as plt\n",
    "\n",
    "from scipy.stats import kurtosis, skew\n",
    "from scipy.signal import find_peaks\n",
    "\n",
    "from sklearn.preprocessing import MinMaxScaler, OneHotEncoder\n",
    "from sklearn.model_selection import train_test_split\n",
    "from sklearn.feature_selection import SelectFromModel\n",
    "from sklearn.naive_bayes import GaussianNB\n",
    "from sklearn.ensemble import RandomForestClassifier\n",
    "from sklearn.neural_network import MLPClassifier\n",
    "from sklearn.svm import SVC\n",
    "from sklearn.metrics import accuracy_score, f1_score, precision_score, recall_score, classification_report, confusion_matrix\n",
    "\n",
    "import ruptures as rpt"
   ]
  },
  {
   "cell_type": "code",
   "execution_count": 3,
   "metadata": {},
   "outputs": [],
   "source": [
    "def statistical_features(arr):\n",
    "    vmin = np.amin(arr)\n",
    "    vmax = np.amax(arr)\n",
    "    mean = np.mean(arr)\n",
    "    std = np.std(arr)\n",
    "    return vmin, vmax, mean, std\n",
    "\n",
    "def shape_features(arr):\n",
    "    skewness = skew(arr)\n",
    "    kurt = kurtosis(arr)\n",
    "    return skewness, kurt"
   ]
  },
  {
   "cell_type": "code",
   "execution_count": 4,
   "metadata": {},
   "outputs": [],
   "source": [
    "user = 'BG'"
   ]
  },
  {
   "cell_type": "markdown",
   "metadata": {},
   "source": [
    "## Pre-processing"
   ]
  },
  {
   "cell_type": "code",
   "execution_count": 5,
   "metadata": {},
   "outputs": [],
   "source": [
    "import_path = f'{user}'\n",
    "export_path = f'{user}'\n",
    "\n",
    "rightEDAdatapath  = f'{import_path}/EDA.csv'\n",
    "rightHRdatapath   = f'{import_path}/HR.csv'\n",
    "rightTEMPdatapath = f'{import_path}/TEMP.csv'"
   ]
  },
  {
   "cell_type": "code",
   "execution_count": 6,
   "metadata": {},
   "outputs": [],
   "source": [
    "rightHRdatapath = np.loadtxt(rightHRdatapath, delimiter = ',')\n",
    "rightHRdatapath = np.repeat(rightHRdatapath, 4)\n",
    "np.savetxt('hr_new.csv', rightHRdatapath, delimiter = ',')"
   ]
  },
  {
   "cell_type": "code",
   "execution_count": 7,
   "metadata": {},
   "outputs": [],
   "source": [
    "edat =  pd.read_csv(f'{user}/EDA.csv',  header = 2,  names = ['EDA'])\n",
    "hrt =   pd.read_csv(f'hr_new.csv',      header = 12, names = ['HR'])\n",
    "tempt = pd.read_csv(f'{user}/Temp.csv', header = 2,  names = ['TEMP'])\n",
    "gt =    pd.read_csv(f'{user}/EDA.csv',  nrows  = 1)"
   ]
  },
  {
   "cell_type": "code",
   "execution_count": 8,
   "metadata": {},
   "outputs": [],
   "source": [
    "reference_time = gt.iloc[0,0]\n",
    "min_len = min(len(edat), len(hrt), len(tempt))\n",
    "\n",
    "eda = edat.iloc[:min_len, 0]\n",
    "hrt = hrt.iloc[:min_len, 0]\n",
    "tempt = tempt.iloc[:min_len, 0]\n",
    "df_original = pd.concat([eda, hrt, tempt], axis = 1)"
   ]
  },
  {
   "cell_type": "code",
   "execution_count": 9,
   "metadata": {},
   "outputs": [],
   "source": [
    "array = df_original.values\n",
    "data = pd.DataFrame(array)\n",
    "data.columns = ['EDA','HR','temp']\n",
    "\n",
    "cols = [\n",
    "    'EDA_Mean','EDA_Min','EDA_Max','EDA_Std', 'EDA_Kurtosis', 'EDA_Skew','EDA_Num_Peaks','EDA_Amphitude','EDA_Duration',\n",
    "    'HR_Mean','HR_Min','HR_Max','HR_Std','HR_RMS','temp_Mean', 'temp_Min','temp_Max','temp_Std'\n",
    "]\n",
    "df_features = pd.DataFrame(columns=cols)\n",
    "\n",
    "index = 0\n",
    "\n",
    "for i in range(0,len(data['EDA']), 20):\n",
    "    df_partial = data.iloc[i:i+40,]\n",
    "    plen = len(df_partial['EDA'])\n",
    "    \n",
    "    if plen < 40:\n",
    "        continue\n",
    "    \n",
    "    eda = df_partial['EDA'].values\n",
    "    hr = df_partial['HR'].values\n",
    "    temp = df_partial['temp'].values\n",
    "\n",
    "    eda_min, eda_max, eda_mean, eda_std = statistical_features(eda)\n",
    "    hr_min, hr_max, hr_mean, hr_std = statistical_features(hr)\n",
    "    temp_min, temp_max, temp_mean, temp_std = statistical_features(temp)\n",
    "    eda_skew, eda_kurtosis = shape_features(eda)\n",
    "    \n",
    "    hr_rms = np.sqrt(np.mean(np.square(np.ediff1d(hr))))\n",
    "    temp_rms= np.sqrt(np.mean(np.square(np.ediff1d(temp))))\n",
    "\n",
    "    peaks,properties = find_peaks(eda, width=5)\n",
    "    num_Peaks = len(peaks)\n",
    "    \n",
    "    prominences = np.array(properties['prominences'])\n",
    "    widths = np.array(properties['widths'])\n",
    "    amphitude = np.sum(prominences)\n",
    "    duration = np.sum(widths)\n",
    "\n",
    "    df_features.loc[index] = [eda_mean, eda_min, eda_max, eda_std, eda_kurtosis, eda_skew, num_Peaks, amphitude, duration, hr_mean, hr_min, hr_max, hr_std,hr_rms, temp_mean, temp_min, temp_max, temp_std]\n",
    "\n",
    "    index = index+1"
   ]
  },
  {
   "cell_type": "code",
   "execution_count": 10,
   "metadata": {},
   "outputs": [],
   "source": [
    "cols = list(map(str, range(30, 0, -1)))\n",
    "df_lag_features = pd.DataFrame(columns=cols)\n",
    "df_lag_features = pd.concat([\n",
    "    df_features['HR_Mean'].shift(10),  df_features['HR_Mean'].shift(9),    df_features['HR_Mean'].shift(8),\n",
    "    df_features['HR_Mean'].shift(7),   df_features['HR_Mean'].shift(6),    df_features['HR_Mean'].shift(5),\n",
    "    df_features['HR_Mean'].shift(4),   df_features['HR_Mean'].shift(3),    df_features['HR_Mean'].shift(2),\n",
    "    df_features['HR_Mean'].shift(1),   df_features['temp_Mean'].shift(10), df_features['temp_Mean'].shift(9),\n",
    "    df_features['temp_Mean'].shift(8), df_features['temp_Mean'].shift(7),  df_features['temp_Mean'].shift(6),\n",
    "    df_features['temp_Mean'].shift(5), df_features['temp_Mean'].shift(4),  df_features['temp_Mean'].shift(3),\n",
    "    df_features['temp_Mean'].shift(2), df_features['temp_Mean'].shift(1),  df_features['EDA_Mean'].shift(10),\n",
    "    df_features['EDA_Mean'].shift(9),  df_features['EDA_Mean'].shift(8),   df_features['EDA_Mean'].shift(7),\n",
    "    df_features['EDA_Mean'].shift(6),  df_features['EDA_Mean'].shift(5),   df_features['EDA_Mean'].shift(4),\n",
    "    df_features['EDA_Mean'].shift(3),  df_features['EDA_Mean'].shift(2),   df_features['EDA_Mean'].shift(1)], axis=1)\n",
    "df_lag_features.columns = cols\n",
    "df_lag_features = df_lag_features.dropna()"
   ]
  },
  {
   "cell_type": "code",
   "execution_count": 11,
   "metadata": {},
   "outputs": [],
   "source": [
    "df_temp = df_features.iloc[30:3238, 0:31]\n",
    "df_total = pd.concat([df_lag_features, df_temp], axis=1)"
   ]
  },
  {
   "cell_type": "markdown",
   "metadata": {},
   "source": [
    "## Stress detection model"
   ]
  },
  {
   "cell_type": "code",
   "execution_count": 12,
   "metadata": {},
   "outputs": [],
   "source": [
    "df_lag = pd.read_csv('combined_lagEDA.csv')\n",
    "train_set = df_lag.iloc[:,0:48]\n",
    "labels = df_lag.iloc[:,48:49]"
   ]
  },
  {
   "cell_type": "markdown",
   "metadata": {},
   "source": [
    "Random Forest"
   ]
  },
  {
   "cell_type": "code",
   "execution_count": 13,
   "metadata": {},
   "outputs": [
    {
     "name": "stdout",
     "output_type": "stream",
     "text": [
      "acc = 0.9625030435841246\n",
      "pre = 0.959484970647002\n",
      "recall = 0.9483744337783883\n",
      "f1 = 0.9535345074995947\n"
     ]
    }
   ],
   "source": [
    "df_lag = pd.read_csv('combined_lagEDA.csv')\n",
    "train_set = df_lag.iloc[:,0:48]\n",
    "labels = df_lag.iloc[:,48:49]\n",
    "\n",
    "#Crear un clasificador de bosque aleatorio\n",
    "clf = RandomForestClassifier(n_estimators=250,max_depth=40)   #mejorado\n",
    "\n",
    "# Dividir nuestros datos\n",
    "train, test, train_labels, test_labels = train_test_split(train_set, labels, test_size=0.33, random_state=30)\n",
    "\n",
    "#Entrena el modelo usando los conjuntos de entrenamiento y_pred=clf.predict(X_test)\n",
    "clf.fit(train, train_labels.values.ravel())\n",
    "\n",
    "y_pred = clf.predict(test)\n",
    "\n",
    "f1score   = f1_score        (test_labels, y_pred, average = 'macro')\n",
    "recall    = recall_score    (test_labels, y_pred, average = 'macro')\n",
    "precision = precision_score (test_labels, y_pred, average = 'macro')\n",
    "accuracy  = accuracy_score  (test_labels, y_pred)\n",
    "\n",
    "print('acc =', accuracy)\n",
    "print('pre =', precision)\n",
    "print('recall =', recall) \n",
    "print('f1 =', f1score)"
   ]
  },
  {
   "cell_type": "markdown",
   "metadata": {},
   "source": [
    "MLP"
   ]
  },
  {
   "cell_type": "code",
   "execution_count": 29,
   "metadata": {},
   "outputs": [
    {
     "name": "stdout",
     "output_type": "stream",
     "text": [
      "acc = 0.9079620160701242\n",
      "pre = 0.8915115360901189\n",
      "recall = 0.8876675133706907\n",
      "f1 = 0.889307398204255\n"
     ]
    }
   ],
   "source": [
    "# Dividir nuestros datos\n",
    "train, test, train_labels, test_labels = train_test_split(train_set, labels, test_size=0.33, random_state=30)\n",
    "\n",
    "#Entrena el modelo usando los conjuntos de entrenamiento y_pred=clf.predict(X_test)\n",
    "clf = MLPClassifier(hidden_layer_sizes=(300, 280), random_state=1, max_iter=600).fit(train, train_labels.values.ravel())\n",
    "\n",
    "y_pred = clf.predict(test)\n",
    "\n",
    "f1score   = f1_score        (test_labels, y_pred, average = 'macro')\n",
    "recall    = recall_score    (test_labels, y_pred, average = 'macro')\n",
    "precision = precision_score (test_labels, y_pred, average = 'macro')\n",
    "accuracy  = accuracy_score  (test_labels, y_pred)\n",
    "\n",
    "print('acc =', accuracy)\n",
    "print('pre =', precision)\n",
    "print('recall =', recall)\n",
    "print('f1 =', f1score)"
   ]
  },
  {
   "cell_type": "markdown",
   "metadata": {},
   "source": [
    "SVM"
   ]
  },
  {
   "cell_type": "code",
   "execution_count": 49,
   "metadata": {},
   "outputs": [
    {
     "name": "stderr",
     "output_type": "stream",
     "text": [
      "C:\\Users\\user\\AppData\\Roaming\\Python\\Python311\\site-packages\\sklearn\\utils\\validation.py:1183: DataConversionWarning: A column-vector y was passed when a 1d array was expected. Please change the shape of y to (n_samples, ), for example using ravel().\n",
      "  y = column_or_1d(y, warn=True)\n"
     ]
    },
    {
     "name": "stdout",
     "output_type": "stream",
     "text": [
      "\n",
      "Resultados del modelo SVM:\n",
      "Accuracy: 0.838568\n",
      "Precision (Macro): 0.814536\n",
      "Recall (Macro): 0.802684\n",
      "F1 Score (Macro): 0.807895\n"
     ]
    }
   ],
   "source": [
    "from sklearn.svm import SVC\n",
    "from sklearn.model_selection import train_test_split\n",
    "from sklearn.preprocessing import StandardScaler\n",
    "from sklearn.metrics import accuracy_score, precision_score, recall_score, f1_score\n",
    "\n",
    "\n",
    "    # Escalar los datos\n",
    "scaler = StandardScaler()\n",
    "scaled_train_set = scaler.fit_transform(train_set)\n",
    "\n",
    "    # Dividir los datos en entrenamiento y prueba\n",
    "X_train, X_test, y_train, y_test = train_test_split(scaled_train_set, labels, test_size=0.33, random_state=30)\n",
    "\n",
    "    # Crear el modelo SVM con hiperparámetros ajustados\n",
    "clf = SVC(kernel='rbf', C=7, gamma=0.2, random_state=30)\n",
    "\n",
    "    # Entrenar el modelo\n",
    "clf.fit(X_train, y_train)\n",
    "\n",
    "    # Realizar predicciones\n",
    "y_pred = clf.predict(X_test)\n",
    "\n",
    "    # Calcular las métricas\n",
    "accuracy = accuracy_score(y_test, y_pred)\n",
    "precision = precision_score(y_test, y_pred, average='macro')\n",
    "recall = recall_score(y_test, y_pred, average='macro')\n",
    "f1 = f1_score(y_test, y_pred, average='macro')\n",
    "\n",
    "    # Imprimir los resultados\n",
    "print(\"\\nResultados del modelo SVM:\")\n",
    "print(f\"Accuracy: {accuracy:.6f}\")\n",
    "print(f\"Precision (Macro): {precision:.6f}\")\n",
    "print(f\"Recall (Macro): {recall:.6f}\")\n",
    "print(f\"F1 Score (Macro): {f1:.6f}\")\n",
    "\n"
   ]
  },
  {
   "cell_type": "markdown",
   "metadata": {},
   "source": [
    "Naive Bayes"
   ]
  },
  {
   "cell_type": "code",
   "execution_count": 14,
   "metadata": {},
   "outputs": [
    {
     "name": "stdout",
     "output_type": "stream",
     "text": [
      "\n",
      "Resultados del modelo Gaussian Naive Bayes:\n",
      "Accuracy: 0.539323\n",
      "Precision (Macro): 0.486367\n",
      "Recall (Macro): 0.483251\n",
      "F1 Score (Macro): 0.483988\n"
     ]
    },
    {
     "name": "stderr",
     "output_type": "stream",
     "text": [
      "C:\\Users\\user\\AppData\\Roaming\\Python\\Python311\\site-packages\\sklearn\\utils\\validation.py:1183: DataConversionWarning: A column-vector y was passed when a 1d array was expected. Please change the shape of y to (n_samples, ), for example using ravel().\n",
      "  y = column_or_1d(y, warn=True)\n"
     ]
    }
   ],
   "source": [
    "from sklearn.naive_bayes import GaussianNB\n",
    "from sklearn.model_selection import train_test_split\n",
    "from sklearn.preprocessing import StandardScaler\n",
    "from sklearn.metrics import accuracy_score, precision_score, recall_score, f1_score\n",
    "\n",
    "def gaussian_nb_predict(train_set, labels):\n",
    "    # Escalar los datos\n",
    "    scaler = StandardScaler()\n",
    "    scaled_train_set = scaler.fit_transform(train_set)\n",
    "\n",
    "    # Dividir los datos en entrenamiento y prueba\n",
    "    X_train, X_test, y_train, y_test = train_test_split(scaled_train_set, labels, test_size=0.33, random_state=30)\n",
    "\n",
    "    # Definir el modelo Gaussian Naive Bayes\n",
    "    gnb_model = GaussianNB()\n",
    "\n",
    "    # Entrenar el modelo\n",
    "    gnb_model.fit(X_train, y_train)\n",
    "\n",
    "    # Realizar predicciones\n",
    "    y_pred = gnb_model.predict(X_test)\n",
    "\n",
    "    # Calcular las métricas\n",
    "    accuracy = accuracy_score(y_test, y_pred)\n",
    "    precision = precision_score(y_test, y_pred, average='macro')\n",
    "    recall = recall_score(y_test, y_pred, average='macro')\n",
    "    f1 = f1_score(y_test, y_pred, average='macro')\n",
    "\n",
    "    # Imprimir los resultados\n",
    "    print(\"\\nResultados del modelo Gaussian Naive Bayes:\")\n",
    "    print(f\"Accuracy: {accuracy:.6f}\")\n",
    "    print(f\"Precision (Macro): {precision:.6f}\")\n",
    "    print(f\"Recall (Macro): {recall:.6f}\")\n",
    "    print(f\"F1 Score (Macro): {f1:.6f}\")\n",
    "\n",
    "    return accuracy, precision, recall, f1\n",
    "accuracy, precision, recall, f1 = gaussian_nb_predict(train_set, labels)"
   ]
  },
  {
   "cell_type": "markdown",
   "metadata": {},
   "source": [
    "KNN"
   ]
  },
  {
   "cell_type": "code",
   "execution_count": 75,
   "metadata": {},
   "outputs": [
    {
     "name": "stderr",
     "output_type": "stream",
     "text": [
      "C:\\Users\\user\\AppData\\Roaming\\Python\\Python311\\site-packages\\sklearn\\neighbors\\_classification.py:233: DataConversionWarning: A column-vector y was passed when a 1d array was expected. Please change the shape of y to (n_samples,), for example using ravel().\n",
      "  return self._fit(X, y)\n"
     ]
    },
    {
     "name": "stdout",
     "output_type": "stream",
     "text": [
      "\n",
      "Resultados del modelo K-Nearest Neighbors:\n",
      "Accuracy: 0.795228\n",
      "Precision (Macro): 0.765881\n",
      "Recall (Macro): 0.761437\n",
      "F1 Score (Macro): 0.763522\n"
     ]
    }
   ],
   "source": [
    "from sklearn.neighbors import KNeighborsClassifier\n",
    "from sklearn.model_selection import train_test_split, GridSearchCV\n",
    "from sklearn.preprocessing import StandardScaler\n",
    "from sklearn.metrics import accuracy_score, precision_score, recall_score, f1_score\n",
    "\n",
    "def knn_predict(train_set, labels, show_best_params=False):\n",
    "    # Escalar los datos\n",
    "    scaler = StandardScaler()\n",
    "    scaled_train_set = scaler.fit_transform(train_set)\n",
    "\n",
    "    # Dividir nuestros datos\n",
    "    X_train, X_test, y_train, y_test = train_test_split(scaled_train_set, labels, test_size=0.33, random_state=30)\n",
    "\n",
    "    # Entrenar el modelo KNN sin GridSearchCV\n",
    "    knn_model = KNeighborsClassifier(n_neighbors=5, weights='uniform', metric='euclidean')\n",
    "    knn_model.fit(X_train, y_train)\n",
    "\n",
    "    # Predecir en los datos de prueba\n",
    "    y_pred = knn_model.predict(X_test)\n",
    "\n",
    "    # Calcular las métricas de rendimiento\n",
    "    accuracy = accuracy_score(y_test, y_pred)\n",
    "    precision = precision_score(y_test, y_pred, average='macro')\n",
    "    recall = recall_score(y_test, y_pred, average='macro')\n",
    "    f1 = f1_score(y_test, y_pred, average='macro')\n",
    "\n",
    "    # Imprimir los resultados con más decimales\n",
    "    print(\"\\nResultados del modelo K-Nearest Neighbors:\")\n",
    "    print(f\"Accuracy: {accuracy:.6f}\")\n",
    "    print(f\"Precision (Macro): {precision:.6f}\")\n",
    "    print(f\"Recall (Macro): {recall:.6f}\")\n",
    "    print(f\"F1 Score (Macro): {f1:.6f}\")\n",
    "\n",
    "    # Opción para mostrar hiperparámetros ajustados\n",
    "    if show_best_params:\n",
    "        print(\"\\n**Búsqueda de Hiperparámetros**:\")\n",
    "        param_grid = {\n",
    "            'n_neighbors': [3, 5, 7, 9],\n",
    "            'weights': ['uniform', 'distance'],\n",
    "            'metric': ['euclidean', 'manhattan']\n",
    "        }\n",
    "        grid_search = GridSearchCV(KNeighborsClassifier(), param_grid, cv=5, scoring='accuracy')\n",
    "        grid_search.fit(X_train, y_train)\n",
    "\n",
    "        print(f\"Mejores Hiperparámetros: {grid_search.best_params_}\")\n",
    "\n",
    "    return accuracy, precision, recall, f1, knn_model\n",
    "\n",
    "accuracy, precision, recall, f1, clf = knn_predict(train_set, labels)"
   ]
  },
  {
   "cell_type": "markdown",
   "metadata": {},
   "source": [
    "Gaussian Process"
   ]
  },
  {
   "cell_type": "code",
   "execution_count": null,
   "metadata": {},
   "outputs": [],
   "source": [
    "from sklearn.gaussian_process import GaussianProcessClassifier\n",
    "from sklearn.gaussian_process.kernels import RBF\n",
    "from sklearn.model_selection import train_test_split\n",
    "from sklearn.preprocessing import StandardScaler\n",
    "from sklearn.metrics import accuracy_score, precision_score, recall_score, f1_score\n",
    "\n",
    "def gaussian_process_predict(train_set, labels):\n",
    "    # Escalar los datos\n",
    "    scaler = StandardScaler()\n",
    "    scaled_train_set = scaler.fit_transform(train_set)\n",
    "\n",
    "    # Dividir los datos en entrenamiento y prueba\n",
    "    X_train, X_test, y_train, y_test = train_test_split(scaled_train_set, labels, test_size=0.33, random_state=30)\n",
    "\n",
    "    # Definir el kernel para el Gaussian Process\n",
    "    kernel = 1.0 * RBF(length_scale=1.0)\n",
    "\n",
    "    # Crear el modelo Gaussian Process Classifier\n",
    "    gpc = GaussianProcessClassifier(kernel=kernel, random_state=30)\n",
    "\n",
    "    # Entrenar el modelo\n",
    "    gpc.fit(X_train, y_train)\n",
    "\n",
    "    # Realizar predicciones\n",
    "    y_pred = gpc.predict(X_test)\n",
    "\n",
    "    # Calcular las métricas\n",
    "    accuracy = accuracy_score(y_test, y_pred)\n",
    "    precision = precision_score(y_test, y_pred, average='macro')\n",
    "    recall = recall_score(y_test, y_pred, average='macro')\n",
    "    f1 = f1_score(y_test, y_pred, average='macro')\n",
    "\n",
    "    # Imprimir los resultados\n",
    "    print(\"\\nResultados del modelo Gaussian Process Classifier:\")\n",
    "    print(f\"Accuracy: {accuracy:.6f}\")\n",
    "    print(f\"Precision (Macro): {precision:.6f}\")\n",
    "    print(f\"Recall (Macro): {recall:.6f}\")\n",
    "    print(f\"F1 Score (Macro): {f1:.6f}\")\n",
    "\n",
    "    return accuracy, precision, recall, f1\n",
    "accuracy, precision, recall, f1 = gaussian_process_predict(train_set, labels)\n"
   ]
  },
  {
   "cell_type": "markdown",
   "metadata": {},
   "source": [
    "### Predicting the stress"
   ]
  },
  {
   "cell_type": "code",
   "execution_count": 14,
   "metadata": {},
   "outputs": [
    {
     "name": "stderr",
     "output_type": "stream",
     "text": [
      "C:\\Users\\user\\AppData\\Roaming\\Python\\Python311\\site-packages\\sklearn\\base.py:465: UserWarning: X does not have valid feature names, but RandomForestClassifier was fitted with feature names\n",
      "  warnings.warn(\n"
     ]
    }
   ],
   "source": [
    "df_total = df_total.dropna()\n",
    "scalar = MinMaxScaler()\n",
    "x_scaled = scalar.fit_transform(df_total.iloc[:,0:48])\n",
    "data = pd.DataFrame(x_scaled)\n",
    "data = data.fillna(0)\n",
    "\n",
    "pred_t = clf.predict(data)\n",
    "pred_t = pd.DataFrame(pred_t)\n",
    "pred_t.columns=['pred']\n",
    "pred_t.head(30)\n",
    "pred_t.to_csv('pred'+user+'.csv')"
   ]
  },
  {
   "cell_type": "code",
   "execution_count": 15,
   "metadata": {},
   "outputs": [],
   "source": [
    "df_total['pred'] = pred_t\n",
    "df_total.to_csv('pred{user}.csv')"
   ]
  },
  {
   "cell_type": "code",
   "execution_count": 16,
   "metadata": {},
   "outputs": [],
   "source": [
    "df_total['MA_3'] = np.ceil(df_total.iloc[:,48:49].rolling(window=31).mean())"
   ]
  },
  {
   "cell_type": "markdown",
   "metadata": {},
   "source": [
    "### Change detection"
   ]
  },
  {
   "cell_type": "code",
   "execution_count": 17,
   "metadata": {
    "scrolled": true
   },
   "outputs": [
    {
     "data": {
      "image/png": "[encoded data removed]",
      "text/plain": [
       "<Figure size 1600x600 with 1 Axes>"
      ]
     },
     "metadata": {},
     "output_type": "display_data"
    },
    {
     "name": "stdout",
     "output_type": "stream",
     "text": [
      "[0, 85, 135, 160, 170, 210, 245, 265, 290, 346]\n"
     ]
    }
   ],
   "source": [
    "signal = df_total.iloc[:,49:50].values\n",
    "\n",
    "algo = rpt.Window(model=\"l2\", width=10).fit(signal)\n",
    "result = algo.predict(n_bkps=60)\n",
    "\n",
    "rpt.display(signal, result, figsize=(16, 6))\n",
    "plt.title('Change Point Detection: Pelt Search Method')\n",
    "plt.show()\n",
    "\n",
    "result.insert(0, 0)\n",
    "print(result)"
   ]
  },
  {
   "cell_type": "markdown",
   "metadata": {},
   "source": []
  },
  {
   "cell_type": "markdown",
   "metadata": {},
   "source": [
    "### Generating the event by start and end epoch_times"
   ]
  },
  {
   "cell_type": "code",
   "execution_count": 18,
   "metadata": {},
   "outputs": [
    {
     "data": {
      "text/html": [
       "<div>\n",
       "<style scoped>\n",
       "    .dataframe tbody tr th:only-of-type {\n",
       "        vertical-align: middle;\n",
       "    }\n",
       "\n",
       "    .dataframe tbody tr th {\n",
       "        vertical-align: top;\n",
       "    }\n",
       "\n",
       "    .dataframe thead th {\n",
       "        text-align: right;\n",
       "    }\n",
       "</style>\n",
       "<table border=\"1\" class=\"dataframe\">\n",
       "  <thead>\n",
       "    <tr style=\"text-align: right;\">\n",
       "      <th></th>\n",
       "      <th>start</th>\n",
       "      <th>end</th>\n",
       "      <th>stress</th>\n",
       "    </tr>\n",
       "  </thead>\n",
       "  <tbody>\n",
       "    <tr>\n",
       "      <th>0</th>\n",
       "      <td>0.0</td>\n",
       "      <td>85.0</td>\n",
       "      <td>0.0</td>\n",
       "    </tr>\n",
       "    <tr>\n",
       "      <th>1</th>\n",
       "      <td>85.0</td>\n",
       "      <td>135.0</td>\n",
       "      <td>1.0</td>\n",
       "    </tr>\n",
       "    <tr>\n",
       "      <th>2</th>\n",
       "      <td>135.0</td>\n",
       "      <td>160.0</td>\n",
       "      <td>1.0</td>\n",
       "    </tr>\n",
       "    <tr>\n",
       "      <th>3</th>\n",
       "      <td>160.0</td>\n",
       "      <td>170.0</td>\n",
       "      <td>2.0</td>\n",
       "    </tr>\n",
       "    <tr>\n",
       "      <th>4</th>\n",
       "      <td>170.0</td>\n",
       "      <td>210.0</td>\n",
       "      <td>1.0</td>\n",
       "    </tr>\n",
       "    <tr>\n",
       "      <th>5</th>\n",
       "      <td>210.0</td>\n",
       "      <td>245.0</td>\n",
       "      <td>2.0</td>\n",
       "    </tr>\n",
       "    <tr>\n",
       "      <th>6</th>\n",
       "      <td>245.0</td>\n",
       "      <td>265.0</td>\n",
       "      <td>1.0</td>\n",
       "    </tr>\n",
       "    <tr>\n",
       "      <th>7</th>\n",
       "      <td>265.0</td>\n",
       "      <td>290.0</td>\n",
       "      <td>0.0</td>\n",
       "    </tr>\n",
       "    <tr>\n",
       "      <th>8</th>\n",
       "      <td>290.0</td>\n",
       "      <td>346.0</td>\n",
       "      <td>2.0</td>\n",
       "    </tr>\n",
       "  </tbody>\n",
       "</table>\n",
       "</div>"
      ],
      "text/plain": [
       "   start    end  stress\n",
       "0    0.0   85.0     0.0\n",
       "1   85.0  135.0     1.0\n",
       "2  135.0  160.0     1.0\n",
       "3  160.0  170.0     2.0\n",
       "4  170.0  210.0     1.0\n",
       "5  210.0  245.0     2.0\n",
       "6  245.0  265.0     1.0\n",
       "7  265.0  290.0     0.0\n",
       "8  290.0  346.0     2.0"
      ]
     },
     "execution_count": 18,
     "metadata": {},
     "output_type": "execute_result"
    }
   ],
   "source": [
    "temp_start = 0\n",
    "temp_end = result[0]\n",
    "\n",
    "stress = []\n",
    "for i in range (len(result)-1):\n",
    "    \n",
    "    temp = df_total.iloc[result[i]:(result[i+1]-1), 49:50].mean()[0]\n",
    "    \n",
    "    if temp > 1.3:\n",
    "        temp = 2.0\n",
    "    elif temp >= .65:\n",
    "        temp = 1\n",
    "    else:\n",
    "        temp = 0\n",
    "\n",
    "    stress.append(temp)\n",
    "    \n",
    "df_temp = pd.DataFrame(columns=['start', 'end', 'stress'])\n",
    "c = 0\n",
    "for i in range(len(result)-1):\n",
    "    stressLength = (result[i+1] - result[i]) / 12\n",
    "\n",
    "    start_point  = result[i]\n",
    "    end_point    = result[i + 1]\n",
    "    stress_value = stress[i]\n",
    "    \n",
    "    if temp_end <= start_point:\n",
    "        temp_end       = end_point\n",
    "        df_temp.loc[c] = [start_point, end_point, stress_value]\n",
    "        c = c +1\n",
    "\n",
    "df_temp"
   ]
  },
  {
   "cell_type": "markdown",
   "metadata": {},
   "source": [
    "## Change event time to datetime"
   ]
  },
  {
   "cell_type": "code",
   "execution_count": 19,
   "metadata": {
    "scrolled": true,
    "tags": []
   },
   "outputs": [
    {
     "name": "stdout",
     "output_type": "stream",
     "text": [
      "Prev: 0:07:05 19:00:04 19:07:09 0.0\n",
      "Prev: 0:06:15 19:07:09 19:13:24 1.0\n",
      "Prev: 0:00:50 19:13:24 19:14:14 2.0\n",
      "Prev: 0:03:20 19:14:14 19:17:34 1.0\n",
      "Prev: 0:02:55 19:17:34 19:20:29 2.0\n",
      "Prev: 0:01:40 19:20:29 19:22:09 1.0\n",
      "Prev: 0:02:05 19:22:09 19:24:14 0.0\n",
      "Final: 0:02:05 19:24:14 19:28:54 2.0\n"
     ]
    }
   ],
   "source": [
    "stress_start = 0\n",
    "stress_end = 0\n",
    "tse = 0\n",
    "previous_stress = -1\n",
    "\n",
    "for index, row in df_temp.iterrows():\n",
    "\n",
    "    if row['stress'] == previous_stress:\n",
    "        stress_end = row['end']\n",
    "    else:\n",
    "        if(previous_stress != -1):\n",
    "            start    = datetime.fromtimestamp(reference_time + (stress_start * 5))\n",
    "            end      = datetime.fromtimestamp(reference_time + (stress_end * 5))\n",
    "            timediff = end - start\n",
    "            print('Prev:', timediff, datetime.fromtimestamp(reference_time + (stress_start * 5)).strftime('%H:%M:%S'), datetime.fromtimestamp(reference_time + (stress_end * 5)).strftime('%H:%M:%S'), previous_stress)\n",
    "        \n",
    "        stress_start    = row['start']\n",
    "        stress_end      = row['end']\n",
    "        previous_stress = row['stress']\n",
    "        \n",
    "print('Final:', timediff, datetime.fromtimestamp(reference_time + (stress_start * 5)).strftime('%H:%M:%S'), datetime.fromtimestamp(reference_time + (stress_end * 5)).strftime('%H:%M:%S'), previous_stress)"
   ]
  }
 ],
 "metadata": {
  "kernelspec": {
   "display_name": "Python 3 (ipykernel)",
   "language": "python",
   "name": "python3"
  },
  "language_info": {
   "codemirror_mode": {
    "name": "ipython",
    "version": 3
   },
   "file_extension": ".py",
   "mimetype": "text/x-python",
   "name": "python",
   "nbconvert_exporter": "python",
   "pygments_lexer": "ipython3",
   "version": "3.11.4"
  }
 },
 "nbformat": 4,
 "nbformat_minor": 4
}
